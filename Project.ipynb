{
 "cells": [
  {
   "cell_type": "code",
   "execution_count": 23,
   "metadata": {},
   "outputs": [],
   "source": [
    "from tensorflow.keras.layers import Input, Lambda, Dense, Flatten\n",
    "from tensorflow.keras.models import Model"
   ]
  },
  {
   "cell_type": "code",
   "execution_count": 24,
   "metadata": {},
   "outputs": [],
   "source": [
    "import numpy as np\n",
    "import pandas as pd\n",
    "import cv2\n",
    "import tensorflow as tf\n",
    "from sklearn.preprocessing import LabelEncoder\n",
    "from tensorflow.keras.preprocessing import image\n",
    "from tensorflow.keras.preprocessing.image import ImageDataGenerator, load_img\n",
    "import os"
   ]
  },
  {
   "cell_type": "code",
   "execution_count": 25,
   "metadata": {},
   "outputs": [
    {
     "data": {
      "text/plain": [
       "LabelEncoder()"
      ]
     },
     "execution_count": 25,
     "metadata": {},
     "output_type": "execute_result"
    }
   ],
   "source": [
    "encoder = LabelEncoder()\n",
    "data = pd.read_csv('labels.csv')\n",
    "encoder.fit(data['label'])"
   ]
  },
  {
   "cell_type": "code",
   "execution_count": 26,
   "metadata": {},
   "outputs": [
    {
     "data": {
      "text/plain": [
       "['airplane',\n",
       " 'automobile',\n",
       " 'bird',\n",
       " 'cat',\n",
       " 'deer',\n",
       " 'dog',\n",
       " 'frog',\n",
       " 'horse',\n",
       " 'ship',\n",
       " 'truck']"
      ]
     },
     "execution_count": 26,
     "metadata": {},
     "output_type": "execute_result"
    }
   ],
   "source": [
    "classes = list(encoder.classes_)\n",
    "classes"
   ]
  },
  {
   "cell_type": "code",
   "execution_count": 27,
   "metadata": {},
   "outputs": [
    {
     "data": {
      "text/plain": [
       "array([6, 9, 9, ..., 9, 1, 1])"
      ]
     },
     "execution_count": 27,
     "metadata": {},
     "output_type": "execute_result"
    }
   ],
   "source": [
    "label = encoder.transform(data['label'])\n",
    "label"
   ]
  },
  {
   "cell_type": "code",
   "execution_count": 28,
   "metadata": {},
   "outputs": [],
   "source": [
    "folder = r'train'\n",
    "IMG_SIZE = 32\n",
    "images = []\n",
    "for img in os.listdir(folder):\n",
    "    img_path = os.path.join(folder, img)\n",
    "    img_arr = cv2.imread(img_path)\n",
    "    img_arr = cv2.resize(img_arr, (IMG_SIZE, IMG_SIZE))\n",
    "    images.append(img_arr)"
   ]
  },
  {
   "cell_type": "code",
   "execution_count": 29,
   "metadata": {},
   "outputs": [
    {
     "name": "stdout",
     "output_type": "stream",
     "text": [
      "50000\n"
     ]
    }
   ],
   "source": [
    "print(len(images))"
   ]
  },
  {
   "cell_type": "code",
   "execution_count": 30,
   "metadata": {},
   "outputs": [
    {
     "data": {
      "text/plain": [
       "array([[[[ 63,  62,  59],\n",
       "         [ 45,  46,  43],\n",
       "         [ 43,  48,  50],\n",
       "         ...,\n",
       "         [108, 132, 158],\n",
       "         [102, 125, 152],\n",
       "         [103, 124, 148]],\n",
       "\n",
       "        [[ 20,  20,  16],\n",
       "         [  0,   0,   0],\n",
       "         [  0,   8,  18],\n",
       "         ...,\n",
       "         [ 55,  88, 123],\n",
       "         [ 50,  83, 119],\n",
       "         [ 57,  87, 122]],\n",
       "\n",
       "        [[ 21,  24,  25],\n",
       "         [  0,   7,  16],\n",
       "         [  8,  27,  49],\n",
       "         ...,\n",
       "         [ 50,  84, 118],\n",
       "         [ 50,  84, 120],\n",
       "         [ 42,  73, 109]],\n",
       "\n",
       "        ...,\n",
       "\n",
       "        [[ 96, 170, 208],\n",
       "         [ 34, 153, 201],\n",
       "         [ 26, 161, 198],\n",
       "         ...,\n",
       "         [ 70, 133, 160],\n",
       "         [  7,  31,  56],\n",
       "         [ 20,  34,  53]],\n",
       "\n",
       "        [[ 96, 139, 180],\n",
       "         [ 42, 123, 173],\n",
       "         [ 30, 144, 186],\n",
       "         ...,\n",
       "         [ 94, 148, 184],\n",
       "         [ 34,  62,  97],\n",
       "         [ 34,  53,  83]],\n",
       "\n",
       "        [[116, 144, 177],\n",
       "         [ 94, 129, 168],\n",
       "         [ 87, 142, 179],\n",
       "         ...,\n",
       "         [140, 184, 216],\n",
       "         [ 84, 118, 151],\n",
       "         [ 72,  92, 123]]],\n",
       "\n",
       "\n",
       "       [[[116, 125, 125],\n",
       "         [ 91, 101, 110],\n",
       "         [ 83,  90, 102],\n",
       "         ...,\n",
       "         [214, 207, 202],\n",
       "         [212, 205, 200],\n",
       "         [214, 208, 202]],\n",
       "\n",
       "        [[142, 146, 142],\n",
       "         [139, 144, 146],\n",
       "         [170, 172, 176],\n",
       "         ...,\n",
       "         [205, 201, 195],\n",
       "         [209, 205, 198],\n",
       "         [215, 211, 204]],\n",
       "\n",
       "        [[183, 185, 180],\n",
       "         [146, 146, 143],\n",
       "         [157, 157, 156],\n",
       "         ...,\n",
       "         [113, 111, 122],\n",
       "         [131, 128, 139],\n",
       "         [150, 147, 158]],\n",
       "\n",
       "        ...,\n",
       "\n",
       "        [[ 41,  82, 104],\n",
       "         [ 39,  80, 101],\n",
       "         [ 38,  81, 101],\n",
       "         ...,\n",
       "         [ 67, 103, 126],\n",
       "         [ 69, 103, 126],\n",
       "         [ 68, 101, 125]],\n",
       "\n",
       "        [[ 40,  81, 104],\n",
       "         [ 41,  84, 105],\n",
       "         [ 43,  88, 109],\n",
       "         ...,\n",
       "         [ 78, 113, 138],\n",
       "         [ 80, 113, 137],\n",
       "         [ 81, 112, 137]],\n",
       "\n",
       "        [[ 42,  83, 105],\n",
       "         [ 45,  87, 108],\n",
       "         [ 50,  94, 115],\n",
       "         ...,\n",
       "         [ 82, 117, 143],\n",
       "         [ 84, 116, 143],\n",
       "         [ 86, 116, 144]]],\n",
       "\n",
       "\n",
       "       [[[ 44,  64,  62],\n",
       "         [ 26,  50,  50],\n",
       "         [ 19,  44,  46],\n",
       "         ...,\n",
       "         [ 69, 172, 167],\n",
       "         [ 76, 184, 183],\n",
       "         [ 72, 136, 137]],\n",
       "\n",
       "        [[ 37,  65,  63],\n",
       "         [ 26,  53,  55],\n",
       "         [ 27,  50,  52],\n",
       "         ...,\n",
       "         [ 61, 169, 163],\n",
       "         [ 75, 174, 171],\n",
       "         [ 77, 146, 145]],\n",
       "\n",
       "        [[ 36,  62,  58],\n",
       "         [ 37,  66,  64],\n",
       "         [ 37,  60,  56],\n",
       "         ...,\n",
       "         [ 62, 155, 153],\n",
       "         [ 64, 154, 150],\n",
       "         [ 57, 128, 123]],\n",
       "\n",
       "        ...,\n",
       "\n",
       "        [[ 99, 135, 172],\n",
       "         [ 84, 110, 143],\n",
       "         [ 42,  56, 130],\n",
       "         ...,\n",
       "         [ 56,  75,  94],\n",
       "         [ 86, 108, 141],\n",
       "         [ 81, 105, 139]],\n",
       "\n",
       "        [[117, 146, 183],\n",
       "         [ 95, 118, 150],\n",
       "         [ 44,  64,  80],\n",
       "         ...,\n",
       "         [ 60,  72,  81],\n",
       "         [ 98, 118, 135],\n",
       "         [110, 125, 143]],\n",
       "\n",
       "        [[144, 174, 209],\n",
       "         [123, 151, 182],\n",
       "         [ 83, 109, 139],\n",
       "         ...,\n",
       "         [ 47,  54,  59],\n",
       "         [111, 119, 130],\n",
       "         [160, 156, 169]]],\n",
       "\n",
       "\n",
       "       ...,\n",
       "\n",
       "\n",
       "       [[[255, 255, 235],\n",
       "         [253, 254, 240],\n",
       "         [255, 254, 249],\n",
       "         ...,\n",
       "         [144, 159, 140],\n",
       "         [245, 248, 245],\n",
       "         [255, 255, 255]],\n",
       "\n",
       "        [[254, 253, 240],\n",
       "         [248, 248, 239],\n",
       "         [252, 253, 250],\n",
       "         ...,\n",
       "         [ 97, 113,  94],\n",
       "         [193, 198, 192],\n",
       "         [255, 255, 255]],\n",
       "\n",
       "        [[254, 254, 245],\n",
       "         [226, 227, 219],\n",
       "         [224, 226, 223],\n",
       "         ...,\n",
       "         [118, 134, 114],\n",
       "         [179, 185, 175],\n",
       "         [250, 250, 249]],\n",
       "\n",
       "        ...,\n",
       "\n",
       "        [[ 56, 111,  72],\n",
       "         [ 52, 106,  68],\n",
       "         [ 49, 104,  65],\n",
       "         ...,\n",
       "         [185, 187, 197],\n",
       "         [183, 185, 195],\n",
       "         [184, 186, 196]],\n",
       "\n",
       "        [[ 61, 115,  81],\n",
       "         [ 61, 114,  79],\n",
       "         [ 56, 110,  73],\n",
       "         ...,\n",
       "         [182, 184, 195],\n",
       "         [182, 184, 194],\n",
       "         [182, 184, 194]],\n",
       "\n",
       "        [[ 63, 115,  86],\n",
       "         [ 60, 113,  81],\n",
       "         [ 57, 111,  75],\n",
       "         ...,\n",
       "         [182, 184, 194],\n",
       "         [181, 183, 193],\n",
       "         [181, 183, 193]]],\n",
       "\n",
       "\n",
       "       [[[ 44,  77,  71],\n",
       "         [ 35,  69,  60],\n",
       "         [ 56,  83,  74],\n",
       "         ...,\n",
       "         [253, 251, 251],\n",
       "         [255, 255, 255],\n",
       "         [186, 192, 191]],\n",
       "\n",
       "        [[ 62,  96,  89],\n",
       "         [ 58,  89,  80],\n",
       "         [ 51,  77,  67],\n",
       "         ...,\n",
       "         [249, 248, 250],\n",
       "         [254, 254, 255],\n",
       "         [170, 181, 181]],\n",
       "\n",
       "        [[ 46,  80,  74],\n",
       "         [ 50,  77,  69],\n",
       "         [ 53,  77,  68],\n",
       "         ...,\n",
       "         [248, 245, 246],\n",
       "         [254, 254, 254],\n",
       "         [183, 195, 193]],\n",
       "\n",
       "        ...,\n",
       "\n",
       "        [[ 84,  85,  84],\n",
       "         [ 81,  81,  80],\n",
       "         [ 80,  80,  80],\n",
       "         ...,\n",
       "         [ 48,  43,  41],\n",
       "         [ 59,  55,  55],\n",
       "         [ 63,  62,  61]],\n",
       "\n",
       "        [[ 67,  66,  67],\n",
       "         [ 64,  64,  65],\n",
       "         [ 61,  61,  62],\n",
       "         ...,\n",
       "         [ 65,  63,  63],\n",
       "         [ 67,  66,  68],\n",
       "         [ 67,  70,  71]],\n",
       "\n",
       "        [[ 28,  43,  66],\n",
       "         [ 28,  44,  66],\n",
       "         [ 27,  42,  65],\n",
       "         ...,\n",
       "         [ 68,  73,  80],\n",
       "         [ 69,  75,  83],\n",
       "         [ 68,  77,  84]]],\n",
       "\n",
       "\n",
       "       [[[255, 255, 250],\n",
       "         [254, 253, 254],\n",
       "         [220, 224, 211],\n",
       "         ...,\n",
       "         [193, 195, 188],\n",
       "         [255, 255, 255],\n",
       "         [255, 254, 255]],\n",
       "\n",
       "        [[255, 255, 250],\n",
       "         [255, 254, 255],\n",
       "         [222, 225, 213],\n",
       "         ...,\n",
       "         [195, 198, 189],\n",
       "         [255, 255, 255],\n",
       "         [255, 254, 255]],\n",
       "\n",
       "        [[255, 255, 250],\n",
       "         [255, 254, 255],\n",
       "         [222, 226, 213],\n",
       "         ...,\n",
       "         [194, 198, 186],\n",
       "         [255, 255, 255],\n",
       "         [255, 254, 255]],\n",
       "\n",
       "        ...,\n",
       "\n",
       "        [[255, 254, 255],\n",
       "         [255, 254, 254],\n",
       "         [221, 224, 213],\n",
       "         ...,\n",
       "         [215, 211, 211],\n",
       "         [255, 255, 255],\n",
       "         [254, 254, 255]],\n",
       "\n",
       "        [[255, 254, 255],\n",
       "         [253, 253, 252],\n",
       "         [222, 225, 217],\n",
       "         ...,\n",
       "         [216, 213, 214],\n",
       "         [255, 255, 255],\n",
       "         [254, 254, 255]],\n",
       "\n",
       "        [[255, 254, 255],\n",
       "         [253, 253, 253],\n",
       "         [220, 221, 218],\n",
       "         ...,\n",
       "         [215, 212, 214],\n",
       "         [255, 255, 255],\n",
       "         [254, 254, 255]]]], dtype=uint8)"
      ]
     },
     "execution_count": 30,
     "metadata": {},
     "output_type": "execute_result"
    }
   ],
   "source": [
    "x_data = np.array(images)\n",
    "x_data"
   ]
  },
  {
   "cell_type": "code",
   "execution_count": 31,
   "metadata": {},
   "outputs": [],
   "source": [
    "y_data = np.array(label)"
   ]
  },
  {
   "cell_type": "code",
   "execution_count": 32,
   "metadata": {},
   "outputs": [],
   "source": [
    "x_data = x_data/255"
   ]
  },
  {
   "cell_type": "code",
   "execution_count": 33,
   "metadata": {},
   "outputs": [
    {
     "data": {
      "text/plain": [
       "(50000, 32, 32, 3)"
      ]
     },
     "execution_count": 33,
     "metadata": {},
     "output_type": "execute_result"
    }
   ],
   "source": [
    "x_data.shape"
   ]
  },
  {
   "cell_type": "code",
   "execution_count": 34,
   "metadata": {},
   "outputs": [],
   "source": [
    "model = tf.keras.Sequential([tf.keras.layers.Conv2D(64, (3,3), padding='same', activation=tf.nn.relu, input_shape=(IMG_SIZE,IMG_SIZE,3)),\n",
    "                            tf.keras.layers.MaxPooling2D((2,2), strides=2),\n",
    "                            tf.keras.layers.Flatten(),\n",
    "                            tf.keras.layers.Dense(128, activation=tf.nn.relu),\n",
    "                            tf.keras.layers.Dense(128, activation=tf.nn.relu),\n",
    "                            tf.keras.layers.Dense(128, activation=tf.nn.relu),\n",
    "                            tf.keras.layers.Dense(128, activation=tf.nn.relu),\n",
    "                            tf.keras.layers.Dense(10, activation='softmax')])"
   ]
  },
  {
   "cell_type": "code",
   "execution_count": 35,
   "metadata": {},
   "outputs": [],
   "source": [
    "tb_callback = tf.keras.callbacks.TensorBoard(log_dir='logs/',histogram_freq=1)"
   ]
  },
  {
   "cell_type": "code",
   "execution_count": 36,
   "metadata": {},
   "outputs": [],
   "source": [
    "cp_callback = tf.keras.callbacks.ModelCheckpoint('cp.ckpt', save_weights_only=True,verbose=1)"
   ]
  },
  {
   "cell_type": "code",
   "execution_count": 39,
   "metadata": {},
   "outputs": [
    {
     "name": "stdout",
     "output_type": "stream",
     "text": [
      "Epoch 1/10\n",
      "1250/1250 [==============================] - 59s 46ms/step - loss: 2.3028 - accuracy: 0.0979 - val_loss: 2.3029 - val_accuracy: 0.0952\n",
      "\n",
      "Epoch 00001: saving model to cp.ckpt\n",
      "Epoch 2/10\n",
      "1250/1250 [==============================] - 46s 37ms/step - loss: 2.3028 - accuracy: 0.0980 - val_loss: 2.3028 - val_accuracy: 0.0952\n",
      "\n",
      "Epoch 00002: saving model to cp.ckpt\n",
      "Epoch 3/10\n",
      "1250/1250 [==============================] - 44s 35ms/step - loss: 2.3028 - accuracy: 0.0986 - val_loss: 2.3030 - val_accuracy: 0.0952\n",
      "\n",
      "Epoch 00003: saving model to cp.ckpt\n",
      "Epoch 4/10\n",
      "1250/1250 [==============================] - 43s 35ms/step - loss: 2.3029 - accuracy: 0.0991 - val_loss: 2.3027 - val_accuracy: 0.1002\n",
      "\n",
      "Epoch 00004: saving model to cp.ckpt\n",
      "Epoch 5/10\n",
      "1250/1250 [==============================] - 43s 34ms/step - loss: 2.3028 - accuracy: 0.1006 - val_loss: 2.3031 - val_accuracy: 0.0952\n",
      "\n",
      "Epoch 00005: saving model to cp.ckpt\n",
      "Epoch 6/10\n",
      "1250/1250 [==============================] - 43s 35ms/step - loss: 2.3028 - accuracy: 0.0956 - val_loss: 2.3028 - val_accuracy: 0.0952\n",
      "\n",
      "Epoch 00006: saving model to cp.ckpt\n",
      "Epoch 7/10\n",
      "1250/1250 [==============================] - 47s 37ms/step - loss: 2.3028 - accuracy: 0.0982 - val_loss: 2.3028 - val_accuracy: 0.0979\n",
      "\n",
      "Epoch 00007: saving model to cp.ckpt\n",
      "Epoch 8/10\n",
      "1250/1250 [==============================] - 43s 35ms/step - loss: 2.3028 - accuracy: 0.0990 - val_loss: 2.3029 - val_accuracy: 0.0952\n",
      "\n",
      "Epoch 00008: saving model to cp.ckpt\n",
      "Epoch 9/10\n",
      "1250/1250 [==============================] - 46s 37ms/step - loss: 2.3030 - accuracy: 0.0997 - val_loss: 2.3035 - val_accuracy: 0.0949\n",
      "\n",
      "Epoch 00009: saving model to cp.ckpt\n",
      "Epoch 10/10\n",
      "1250/1250 [==============================] - 45s 36ms/step - loss: 2.3026 - accuracy: 0.1008 - val_loss: 2.3029 - val_accuracy: 0.0977\n",
      "\n",
      "Epoch 00010: saving model to cp.ckpt\n"
     ]
    },
    {
     "data": {
      "text/plain": [
       "<keras.callbacks.History at 0x1f610338eb0>"
      ]
     },
     "execution_count": 39,
     "metadata": {},
     "output_type": "execute_result"
    }
   ],
   "source": [
    "model.compile(loss='sparse_categorical_crossentropy',\n",
    "             optimizer='adam',\n",
    "              metrics=['accuracy'])\n",
    "model.fit(x_data, y_data, epochs=10, batch_size=32,validation_split=0.2, callbacks=[tb_callback, cp_callback])"
   ]
  },
  {
   "cell_type": "code",
   "execution_count": 40,
   "metadata": {},
   "outputs": [],
   "source": [
    "import matplotlib.pyplot as plt\n",
    "%matplotlib inline"
   ]
  },
  {
   "cell_type": "code",
   "execution_count": 41,
   "metadata": {},
   "outputs": [
    {
     "data": {
      "text/plain": [
       "<matplotlib.image.AxesImage at 0x1f613434ca0>"
      ]
     },
     "execution_count": 41,
     "metadata": {},
     "output_type": "execute_result"
    },
    {
     "data": {
      "image/png": "[encoded data removed]",
      "text/plain": [
       "<Figure size 432x288 with 1 Axes>"
      ]
     },
     "metadata": {
      "needs_background": "light"
     },
     "output_type": "display_data"
    }
   ],
   "source": [
    "plt.imshow(x_data[0])"
   ]
  },
  {
   "cell_type": "code",
   "execution_count": 42,
   "metadata": {},
   "outputs": [],
   "source": [
    "m = model.predict(x_data)"
   ]
  },
  {
   "cell_type": "code",
   "execution_count": null,
   "metadata": {},
   "outputs": [],
   "source": []
  }
 ],
 "metadata": {
  "kernelspec": {
   "display_name": "Python 3",
   "language": "python",
   "name": "python3"
  },
  "language_info": {
   "codemirror_mode": {
    "name": "ipython",
    "version": 3
   },
   "file_extension": ".py",
   "mimetype": "text/x-python",
   "name": "python",
   "nbconvert_exporter": "python",
   "pygments_lexer": "ipython3",
   "version": "3.8.5"
  }
 },
 "nbformat": 4,
 "nbformat_minor": 4
}
